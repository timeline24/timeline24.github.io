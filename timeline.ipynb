{
  "nbformat": 4,
  "nbformat_minor": 0,
  "metadata": {
    "colab": {
      "provenance": []
    },
    "kernelspec": {
      "name": "python3",
      "display_name": "Python 3"
    },
    "language_info": {
      "name": "python"
    }
  },
  "cells": [
    {
      "cell_type": "markdown",
      "source": [
        "# Create a new Timeline as PDF in your language\n",
        "\n",
        "With just 3 steps you can create and edit a new PDF file to download from the `timeline` folder in your own language. Just press the play button in each of the following code blocks below. Everything happens here in the browser inside a virtual machine.\n",
        "\n",
        "- Step 1: Copy the project files to this virtual machine\n",
        "- Step 2: Install the required packages\n",
        "- Step 3: Create a new timeline in your desired langage"
      ],
      "metadata": {
        "id": "KkMuig-clyF1"
      }
    },
    {
      "cell_type": "code",
      "execution_count": null,
      "metadata": {
        "id": "Ns6oktCw6c1Q"
      },
      "outputs": [],
      "source": [
        "# Timeline in Jupyter Notebook\n",
        "# Step 1 - download all neccessary files\n",
        "\n",
        "import os, urllib3\n",
        "\n",
        "%cd /content\n",
        "current_path = os.getcwd()\n",
        "\n",
        "# Create folder for database\n",
        "folders = [\"db\", \"images\", \"python\", \"python/fonts\", \"timeline\"]\n",
        "for folder in folders:\n",
        "  new_path = current_path + \"/\" + folder\n",
        "  if not os.path.exists(new_path):\n",
        "    os.makedirs(new_path)\n",
        "\n",
        "# Define function to import files to the virtual jupyter file system\n",
        "def import_file(source, target):\n",
        "  try:\n",
        "    with urllib3.PoolManager() as http:\n",
        "      with http.request('GET', source, preload_content=False, decode_content=False) as response:\n",
        "        if response.status == 200:\n",
        "          with open(target, 'wb') as file:\n",
        "            for chunk in response.stream(8192):\n",
        "              file.write(chunk)\n",
        "            # print(f\"Download complete. File saved as {target}\")\n",
        "            print(\".\", end=\"\")\n",
        "        else:\n",
        "            print(f\"Error: Unable to download file {source}. Status Code: {response.status}\")\n",
        "  except urllib3.exceptions.RequestError as e:\n",
        "    print(f\"Network Error: {e}\")\n",
        "  except Exception as e:\n",
        "    print(f\"Error: {e}\")\n",
        "\n",
        "path_required = \"https://raw.githubusercontent.com/kreier/timeline/main/db/files_required.py\"\n",
        "import_file(path_required, \"required.py\")\n",
        "import required\n",
        "print(f\"Number of required files: {len(required.files)}. Downloading them now.\")\n",
        "for file in required.files:\n",
        "  source = \"https://raw.githubusercontent.com/kreier/timeline/main/\" + file\n",
        "  target = file\n",
        "  import_file(source, target)"
      ]
    },
    {
      "cell_type": "code",
      "source": [
        "# Step 2 - install dependencies\n",
        "\n",
        "!pip install reportlab\n",
        "!pip install svglib\n",
        "!pip install googletrans==3.1.0a0"
      ],
      "metadata": {
        "id": "rZdw_txR6zuo"
      },
      "execution_count": null,
      "outputs": []
    },
    {
      "cell_type": "code",
      "source": [
        "# Step 3 - Change the string below to your desired language and create a new pdf\n",
        "language = \"en\"\n",
        "\n",
        "# Start the 6000.py from the python subfolder, result will be in /timeline\n",
        "%cd /content/python\n",
        "import sys\n",
        "sys.argv = ['6000.py',language]\n",
        "with open(\"6000.py\") as file:\n",
        "  exec(file.read())"
      ],
      "metadata": {
        "id": "_A68Y_WV7K5m"
      },
      "execution_count": null,
      "outputs": []
    }
  ]
}